{
  "nbformat": 4,
  "nbformat_minor": 0,
  "metadata": {
    "colab": {
      "name": "Task3SummerGoeduhubTechnologies.ipynb",
      "provenance": [],
      "collapsed_sections": []
    },
    "kernelspec": {
      "name": "python3",
      "display_name": "Python 3"
    },
    "language_info": {
      "name": "python"
    }
  },
  "cells": [
    {
      "cell_type": "markdown",
      "metadata": {
        "id": "SKipcuTK1LMQ"
      },
      "source": [
        "***GO_STP_71: SURAJ SANJEEV PAWAR***"
      ]
    },
    {
      "cell_type": "markdown",
      "metadata": {
        "id": "PHwhwWEr1OfT"
      },
      "source": [
        "**Goeduhub Technologies**<br>\n",
        "***https://www.goeduhub.com/***"
      ]
    },
    {
      "cell_type": "markdown",
      "metadata": {
        "id": "xNm-HtqC1RWo"
      },
      "source": [
        "**Assignment/Task 3**<br>\n",
        "***Online Summer training on Machine Learning & Data Science With Python***"
      ]
    },
    {
      "cell_type": "markdown",
      "metadata": {
        "id": "Kie26dfV1ajP"
      },
      "source": [
        "###***Q.1 Write a Python Program to sort (ascending and descending) a dictionary by value.*** "
      ]
    },
    {
      "cell_type": "markdown",
      "metadata": {
        "id": "wY-3kXNC4O0_"
      },
      "source": [
        "items() method is used to return the list with all dictionary keys with values.<br>dict=dict(l),we will get the sorted Dictionary in ascending order.<br>use l.sort(reverse=True) You will get the sorted dictionary in descending order."
      ]
    },
    {
      "cell_type": "code",
      "metadata": {
        "colab": {
          "base_uri": "https://localhost:8080/"
        },
        "id": "NiaIlQpIBsyB",
        "outputId": "0e625258-4290-40a3-b21c-1145e5846439"
      },
      "source": [
        "y={'carl':40,'alan':2,'bob':1,'danny':3}                                      \n",
        "l=list(y.items())   #convet the given dict. into list\n",
        "l.sort()            #sort the list\n",
        "print('Ascending order is',l) #this print the sorted list \n",
        "\n",
        "l=list(y.items())\n",
        "l.sort(reverse=True) #sort in reverse order\n",
        "print('Descending order is',l)"
      ],
      "execution_count": null,
      "outputs": [
        {
          "output_type": "stream",
          "text": [
            "Ascending order is [('alan', 2), ('bob', 1), ('carl', 40), ('danny', 3)]\n",
            "Descending order is [('danny', 3), ('carl', 40), ('bob', 1), ('alan', 2)]\n"
          ],
          "name": "stdout"
        }
      ]
    },
    {
      "cell_type": "markdown",
      "metadata": {
        "id": "hcID2W011gtv"
      },
      "source": [
        "###***Q.2 Write a Python Program to add a key to a dictionary.*** \n",
        "<br>\n",
        "Sample Dictionary : {0: 10, 1: 20}<br>\n",
        "Expected Result : {0: 10, 1: 20, 2: 30}"
      ]
    },
    {
      "cell_type": "code",
      "metadata": {
        "colab": {
          "base_uri": "https://localhost:8080/"
        },
        "id": "ZWbTfqiu1ov7",
        "outputId": "c0130933-7bdf-4ae5-dfb3-0e0b090e673c"
      },
      "source": [
        "d = {0:10, 1:20}\n",
        "print(\"Sample Dictionary : \",d)\n",
        "d.update({2:30})\n",
        "print(\"Expected Result : \",d)"
      ],
      "execution_count": null,
      "outputs": [
        {
          "output_type": "stream",
          "text": [
            "Sample Dictionary :  {0: 10, 1: 20}\n",
            "Expected Result :  {0: 10, 1: 20, 2: 30}\n"
          ],
          "name": "stdout"
        }
      ]
    },
    {
      "cell_type": "markdown",
      "metadata": {
        "id": "QG3tEhTT1pCK"
      },
      "source": [
        "###***Q.3 Write a  program asks for City name and Temperature and builds a dictionary using that Later on you can input City name and it will tell you the Temperature of that City.***"
      ]
    },
    {
      "cell_type": "code",
      "metadata": {
        "id": "V-pj5tFn1us5"
      },
      "source": [
        "city1 = input(\"Enter city name: \")\n",
        "temp1 = float(input(\"Enter the temperature in celcius: \"))\n",
        " \n",
        "city2 = input(\"Enter city name: \")\n",
        "temp2 = float(input(\"Enter the temperature in celcius: \"))\n",
        " \n",
        "city3 = input(\"Enter city name: \")\n",
        "temp3 = float(input(\"Enter the temperature in celcius: \"))\n",
        " \n",
        "cities = [city1, city2, city3]\n",
        "temperature = [temp1, temp2, temp3]\n",
        " \n",
        "dictinoary = dict(zip(cities, temperature))\n",
        "print(dictinoary)\n",
        "\n",
        "ask=input(\"temperature of which city do you want to know?\")\n",
        "print(\"Temperature of \",ask,'is',dictinoary[ask])"
      ],
      "execution_count": null,
      "outputs": []
    },
    {
      "cell_type": "markdown",
      "metadata": {
        "id": "lvElrFf41u9b"
      },
      "source": [
        "###***Q. 4 Write a Python program to convert list to list of dictionaries.***\n",
        "<br>\n",
        "Sample lists: [\"Black\", \"Red\", \"Maroon\", \"Yellow\"], [\"#000000\", \"#FF0000\", \"#800000\", \"#FFFF00\"]\n",
        "<br><br>\n",
        "Expected Output: [{'color_name': 'Black', 'color_code': '#000000'}, {'color_name': 'Red', 'color_code': '#FF0000'}, {'color_name': 'Maroon', 'color_code': '#800000'}, {'color_name': 'Yellow', 'color_code': '#FFFF00'}]"
      ]
    },
    {
      "cell_type": "code",
      "metadata": {
        "id": "Hj3lycEh5gkj"
      },
      "source": [
        "color_name = [\"Black\", \"Red\", \"Maroon\", \"Yellow\"]\n",
        "color_code = [\"#000000\", \"#FF0000\", \"#800000\", \"#FFFF00\"]\n",
        "print([{'color_name': f, 'color_code': c} for f, c in zip(color_name, color_code)])"
      ],
      "execution_count": null,
      "outputs": []
    },
    {
      "cell_type": "markdown",
      "metadata": {
        "id": "K6qa5u6E15T_"
      },
      "source": [
        " ###***Q. 5 We have following information on Employees and their Salary (Salary is in lakhs)***"
      ]
    },
    {
      "cell_type": "markdown",
      "metadata": {
        "id": "iOvK8y6n2CyR"
      },
      "source": [
        "1.Using above create a dictionary of Employees and their Salary<br><br>\n",
        "2.Write a program that asks user for three type of inputs,<br><br>\n",
        "a>>print: if user enter print then it should print all Employees with their Salary in this format,<br>\n",
        "1.John ==>14<br>\n",
        "2.Smith ==>13<br>\n",
        "3.Alice ==>32<br>\n",
        "4.Daneil ==>21<br><br>\n",
        "b>>add: if user input adds then it should further ask for an Employee name to add. If Employee already exists in our dataset then it should print that it exists and do nothing. If it doesn't then it asks for Salary and add that new Employee/Salary in our dictionary and print it.<br><br>\n",
        "c>>remove: when user inputs remove it should ask for an Employee to remove. If an Employee exists in our dictionary then remove it and print a new dictionary using format shown above in (a). Else print that Employee doesn't exist!<br><br>\n",
        "d>>query: on this again ask the user for which Employee he or she wants to query. When a user inputs that Employee it will print the Salary of that Employee."
      ]
    },
    {
      "cell_type": "code",
      "metadata": {
        "id": "NCGpT4GJH0CQ"
      },
      "source": [
        "ask = input(\"Temperature of which city you want to know? \")\n",
        "print(\"Temperature of\", ask, \"is\", dictinoary[ask])\n",
        "employee = [\"John\", \"Smith\", \"Alice\", \"Daniel\"]\n",
        "salary = [14, 13, 32, 21]\n",
        " \n",
        "empl = ['John','Smith','Alice','Daniel']\n",
        "sal = [14, 13, 32, 21]\n",
        " \n",
        "inp= input(\"Enter your choice :print or add or remove or query: \")\n",
        "if inp == 'print':\n",
        "  Dict = dict(zip(empl, sal))\n",
        "  for a in Dict:\n",
        "    print(a,\"==>\",Dict[f\"{a}\"])\n",
        " \n",
        "elif inp == 'add':\n",
        "  emp= input(\"Enter the name of the Employee to be added: \")\n",
        "  if emp.title() in Dict.keys():\n",
        "    print(f\"{emp} name is already existing!\")\n",
        "  else:\n",
        "    salr = input(f\"Enter the salary of the {emp} \")\n",
        "    Dict.update({emp : salr})\n",
        "    print(Dict)\n",
        " \n",
        "elif inp == 'remove':\n",
        "  name = input(\"Enter the name of the employee to be removed? \")\n",
        "  if name in Dict:\n",
        "    Dict.pop(name)\n",
        "    print(Dict)\n",
        " \n",
        "  else:\n",
        "    print(f\"Sorry!!, {name} doesn't exist in the data!\")\n",
        "  \n",
        "elif inp == 'query':\n",
        "  emp= input(\"Enter the name of the employee you want to query: \").title()\n",
        "  if emp in Dict.keys():\n",
        "    print(f\"The salary of {emp} is {Dict[emp]}\")\n",
        "  else:\n",
        "    print(f\"The employee named {emp} doesn't exist!!\")\n",
        " \n",
        "else:\n",
        "  print(\"Enter a valid choice\")\n"
      ],
      "execution_count": null,
      "outputs": []
    },
    {
      "cell_type": "markdown",
      "metadata": {
        "id": "Ur6codpl2knl"
      },
      "source": [
        "###***Q.1 What is the difference between a set and a frozenset? Create any set and try to use frozenset(setname).***"
      ]
    },
    {
      "cell_type": "markdown",
      "metadata": {
        "id": "jLCJiSF28Mw3"
      },
      "source": [
        "set type is mutable -- the contents can be changed using methods like add() and remove().\n",
        "---\n",
        "\n"
      ]
    },
    {
      "cell_type": "code",
      "metadata": {
        "colab": {
          "base_uri": "https://localhost:8080/"
        },
        "id": "f03u_wJY8MaZ",
        "outputId": "f46002ad-0f97-4a78-93fd-d889c9be799e"
      },
      "source": [
        "language = set([\"Perl\", \"Python\", \"Java\",\"Python\", \"C++\",\"C\"])\n",
        "print(\"Normal set\",language)\n",
        "language.add(\"Django\")\n",
        "print(\"Add the value in given set\",language)\n",
        "language.remove(\"Django\")\n",
        "print(\"Remove the value in given set\",language)"
      ],
      "execution_count": null,
      "outputs": [
        {
          "output_type": "stream",
          "text": [
            "Normal set {'C++', 'Perl', 'Java', 'Python', 'C'}\n",
            "Add the value in given set {'C++', 'Django', 'Perl', 'Java', 'Python', 'C'}\n",
            "Remove the value in given set {'C++', 'Perl', 'Java', 'Python', 'C'}\n"
          ],
          "name": "stdout"
        }
      ]
    },
    {
      "cell_type": "markdown",
      "metadata": {
        "id": "tMdUmO-G8YEg"
      },
      "source": [
        "The frozenset() function returns an immutable frozenset object initialized with elements from the given iterable.elements of the frozen set remain the same after creation.The frozenset type is immutable and hashable -- its contents cannot be altered after is created."
      ]
    },
    {
      "cell_type": "code",
      "metadata": {
        "colab": {
          "base_uri": "https://localhost:8080/"
        },
        "id": "VEi-tBGg8bIm",
        "outputId": "a7e2ffa7-92f6-4fdd-a568-984d53b9233d"
      },
      "source": [
        "language =frozenset([\"Perl\", \"Python\", \"Java\",\"Python\", \"C++\",\"C\"])\n",
        "#language.add(\"Strasbourg\")\n",
        "print(language)\n",
        "\n",
        "#AttributeError: 'frozenset' object has no attribute 'add'"
      ],
      "execution_count": null,
      "outputs": [
        {
          "output_type": "stream",
          "text": [
            "frozenset({'C++', 'Perl', 'Java', 'Python', 'C'})\n"
          ],
          "name": "stdout"
        }
      ]
    },
    {
      "cell_type": "markdown",
      "metadata": {
        "id": "5bz87V7k2m7C"
      },
      "source": [
        "###***Q.2 Find the elements in a given set that are not in another set***\n",
        "\n",
        "    set1 = {10,20,30,40,50}\n",
        "\n",
        "    set2 = {40,50,60,70,80}\n",
        "\n",
        " Difference between set1 and set2 is {10,20,30}"
      ]
    },
    {
      "cell_type": "code",
      "metadata": {
        "colab": {
          "base_uri": "https://localhost:8080/"
        },
        "id": "HGipAx7G6Bin",
        "outputId": "f8e180cb-687a-473d-f52a-011489eaeee1"
      },
      "source": [
        "set1 = {10,20,30,40,50}\n",
        "set2 = {40,50,60,70,80}\n",
        "print(\"Original sets:\")\n",
        "print(set1)\n",
        "print(set2)\n",
        "print(\"Difference of set1 and set2 using difference():\")\n",
        "print(set1.difference(set2))\n",
        "print(\"Difference of set2 and set1 using difference():\")\n",
        "print(set2.difference(set1))\n",
        "print(\"Difference of set1 and set2 using - operator:\")\n",
        "print(set1-set2)\n",
        "print(\"Difference of set2 and set1 using - operator:\")\n",
        "print(set2-set1)"
      ],
      "execution_count": null,
      "outputs": [
        {
          "output_type": "stream",
          "text": [
            "Original sets:\n",
            "{40, 10, 50, 20, 30}\n",
            "{70, 40, 80, 50, 60}\n",
            "Difference of set1 and set2 using difference():\n",
            "{10, 20, 30}\n",
            "Difference of set2 and set1 using difference():\n",
            "{80, 60, 70}\n",
            "Difference of set1 and set2 using - operator:\n",
            "{10, 20, 30}\n",
            "Difference of set2 and set1 using - operator:\n",
            "{80, 60, 70}\n"
          ],
          "name": "stdout"
        }
      ]
    },
    {
      "cell_type": "markdown",
      "metadata": {
        "id": "LP400_10_DDo"
      },
      "source": [
        "***Thank you Mam and Goeduhub Technologies***"
      ]
    }
  ]
}